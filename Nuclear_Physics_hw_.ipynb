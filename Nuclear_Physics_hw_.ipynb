{
  "nbformat": 4,
  "nbformat_minor": 0,
  "metadata": {
    "colab": {
      "provenance": [],
      "toc_visible": true,
      "include_colab_link": true
    },
    "kernelspec": {
      "name": "python3",
      "display_name": "Python 3"
    },
    "language_info": {
      "name": "python"
    }
  },
  "cells": [
    {
      "cell_type": "markdown",
      "metadata": {
        "id": "view-in-github",
        "colab_type": "text"
      },
      "source": [
        "<a href=\"https://colab.research.google.com/github/Zyuuu-G/Thermo_Nuclear_and_Others/blob/main/Nuclear_Physics_hw_.ipynb\" target=\"_parent\"><img src=\"https://colab.research.google.com/assets/colab-badge.svg\" alt=\"Open In Colab\"/></a>"
      ]
    },
    {
      "cell_type": "markdown",
      "source": [
        "# Nuclear Phys Calculations\n",
        "\n",
        "Ziyu Gao\n",
        "\n",
        "2024"
      ],
      "metadata": {
        "id": "lHdUy-m23HbP"
      }
    },
    {
      "cell_type": "code",
      "source": [
        "#import numpy as np"
      ],
      "metadata": {
        "id": "XJfcqTUS31y3"
      },
      "execution_count": null,
      "outputs": []
    },
    {
      "cell_type": "code",
      "source": [
        "### constants ###\n",
        "\n",
        "### Binding Energy Coeffs\n",
        "a_v = 15.835 #MeV volume const\n",
        "a_s = 18.33 #MeV  surface const\n",
        "a_c = 0.714 #MeV  Coulumb const\n",
        "a_a = 23.20 #MeV  asymmetric const\n",
        "\n",
        "### mass\n",
        "m_e = 0.51099890 # MeV/c2  electron mass\n",
        "m_p = 938.27200 # MeV/c2   proton mass\n",
        "m_n = 939.56533 # MeV/c2   neutron mass\n"
      ],
      "metadata": {
        "id": "UaMWpRyi0KLH"
      },
      "execution_count": null,
      "outputs": []
    },
    {
      "cell_type": "code",
      "source": [
        "2.0141017780*931.494013-931.494013*2"
      ],
      "metadata": {
        "colab": {
          "base_uri": "https://localhost:8080/"
        },
        "id": "_aVPCJopcvuJ",
        "outputId": "d44cca36-10ae-4778-fe8e-ff688d679f1c"
      },
      "execution_count": null,
      "outputs": [
        {
          "output_type": "execute_result",
          "data": {
            "text/plain": [
              "13.135721779655114"
            ]
          },
          "metadata": {},
          "execution_count": 6
        }
      ]
    },
    {
      "cell_type": "markdown",
      "source": [
        "#NuPhys hw 3\n",
        "\n",
        "Ziyu Gao\n",
        "\n",
        "2/5/24\n",
        "\n",
        "Text: *Shultis & Faw*"
      ],
      "metadata": {
        "id": "wZ4N1ScX3ONh"
      }
    },
    {
      "cell_type": "code",
      "execution_count": null,
      "metadata": {
        "id": "_f1QtmX90FI8"
      },
      "outputs": [],
      "source": [
        "from sympy import *"
      ]
    },
    {
      "cell_type": "code",
      "source": [
        "# problem 7. (Liquid Drop Model Binding Energy)\n",
        "# plot each \"term\" as functions of atomic #\n",
        "\n",
        "A, Z = symbols('A Z')\n",
        "\n",
        "a_v = 15.835 #MeV volume const\n",
        "a_s = 18.33 #MeV  surface const\n",
        "a_c = 0.714 #MeV  Coulumb const\n",
        "a_a = 23.20 #MeV  asymmetric const\n",
        "\n",
        "m_e = 0.51099890 # MeV/c2  electron mass\n",
        "m_p = 938.27200 # MeV/c2   proton mass\n",
        "m_n = 939.56533 # MeV/c2   neutron mass\n",
        "\n",
        "Z = (A/2)*(1+(m_n-m_p)/(4*a_a))/(1+a_c*A**(2/3)/(4*a_a))  # eq.(3.18) calculate stable #Z\n",
        "BE = a_v*A - (a_s*A**(2/3)) - a_c*Z**2/(A**(1/3)) - (a_a*(A-2*Z)**2)/A  # BE without pairing term\n",
        "\n",
        "p1 = plot (a_v*A/A, (a_s*A**(2/3))/A, (a_c*Z**2/(A**(1/3)))/A, ((a_a*(A-2*Z)**2)/A)/A, -BE/A, (A,1,300,1),\n",
        "           size=(5,4),\n",
        "           title = 'a_v [red], a_s [blue], a_c [green], a_a [orange], -1*BE [black] **per A**',show=False)\n",
        "\n",
        "p1[0].line_color='r'   # a_v red\n",
        "p1[1].line_color='b'  # a_s blue\n",
        "p1[2].line_color='g' # a_c green\n",
        "p1[3].line_color='orange' # a_a orange\n",
        "p1[4].line_color='k' # BE black\n",
        "\n",
        "p1.show()\n"
      ],
      "metadata": {
        "colab": {
          "base_uri": "https://localhost:8080/",
          "height": 406
        },
        "id": "hg-uW1Gu0HPg",
        "outputId": "1ed75147-2378-4fd0-f3e6-21bd5183adc1"
      },
      "execution_count": null,
      "outputs": [
        {
          "output_type": "display_data",
          "data": {
            "text/plain": [
              "<Figure size 500x400 with 1 Axes>"
            ],
            "image/png": "[encoded data removed]"
          },
          "metadata": {}
        }
      ]
    },
    {
      "cell_type": "code",
      "source": [
        "# problem 8 (beta-decay chain parabola)\n",
        "# Use atomic mass data in Appendix B\n",
        "# plot mass diff for A = 70 isobars\n",
        "\n",
        "Z = symbols('Z')\n",
        "\n",
        "Co_27 = 69.949810 # Atomic Mass in (u)\n",
        "Ni_28 = 69.936140\n",
        "Cu_29 = 69.932409\n",
        "Zn_30 = 69.925325\n",
        "Ga_31 = 69.926028\n",
        "Ge_32 = 69.9242504\n",
        "As_33 = 69.930930\n",
        "Se_34 = 69.933500\n",
        "Br_35 = 69.944620\n",
        "Kr_36 = 69.956010\n",
        "\n",
        "z = [27,28,29,30,31,32,33,34,35,36]\n",
        "mass = [70-69.949810,70-69.936140,70-69.932409,70-69.925325,70-69.926028,70-69.9242504,70-69.930930,70-69.933500,70-69.944620,70-69.956010]\n",
        "\n",
        "plot(0,(Z,26,37),markers=[{'args': [z, mass, 'ro']}],xlabel='Z',ylabel='70-amu',title='atomic mass of A=70 isobars VS proton #')\n"
      ],
      "metadata": {
        "colab": {
          "base_uri": "https://localhost:8080/",
          "height": 503
        },
        "id": "sKqtLoBw__Bv",
        "outputId": "4cd43c01-28f9-40d8-9e5f-3b04da32da32"
      },
      "execution_count": null,
      "outputs": [
        {
          "output_type": "display_data",
          "data": {
            "text/plain": [
              "<Figure size 640x480 with 1 Axes>"
            ],
            "image/png": "[encoded data removed]"
          },
          "metadata": {}
        },
        {
          "output_type": "execute_result",
          "data": {
            "text/plain": [
              "<sympy.plotting.plot.Plot at 0x7d07a5499d80>"
            ]
          },
          "metadata": {},
          "execution_count": 13
        }
      ]
    },
    {
      "cell_type": "markdown",
      "source": [
        "should've used Numpy !"
      ],
      "metadata": {
        "id": "Z9vqD48KymVs"
      }
    },
    {
      "cell_type": "markdown",
      "source": [
        "#NuPhys hw 4\n",
        "\n",
        "Ziyu Gao\n",
        "\n",
        "2/12/24\n",
        "\n",
        "Textbook: *Shultis & Faw* Ch.4"
      ],
      "metadata": {
        "id": "p-jje2T78i5S"
      }
    },
    {
      "cell_type": "code",
      "source": [
        "# Problem 5\n",
        "### using atomic mass ###\n",
        "\n",
        "# constants\n",
        "\n",
        "u = 931.494013 # MeV/c2 per u(amu)\n",
        "He_4 = 4.0026032497\n",
        "He_3 = 3.0160293097  # atoic mass in u\n",
        "n = 1.0086649233\n",
        "H_2 = 2.0141017780\n",
        "H_3 = 3.0160492675\n",
        "\n",
        "# (a)\n",
        "print(\"Energy released during fusion\\nHelium 3: Q =\",(2*H_2-He_3-n)*u,\"MeV\")\n",
        "\n",
        "# (b)\n",
        "print(\"Helium 4: Q =\", (H_2+H_3-He_4-n)*u,\"MeV\")\n"
      ],
      "metadata": {
        "colab": {
          "base_uri": "https://localhost:8080/"
        },
        "id": "J1AgWWU284dq",
        "outputId": "cc09e8e1-f5bc-444c-8331-8599492794e7"
      },
      "execution_count": null,
      "outputs": [
        {
          "output_type": "stream",
          "name": "stdout",
          "text": [
            "Energy released during fusion\n",
            "Helium 3: Q = 3.2689133641834656 MeV\n",
            "Helium 4: Q = 17.589282681992636 MeV\n"
          ]
        }
      ]
    },
    {
      "cell_type": "code",
      "source": [
        "# Problem 5\n",
        "### use MASS DEFECT ###\n",
        "\n",
        "dH_2 = 13.1357  # Mass defect in MeV\n",
        "dH_3 = 14.9498\n",
        "dn = 8.0713\n",
        "dHe_3 = 14.9312\n",
        "dHe_4 = 2.4249\n",
        "\n",
        "# a)\n",
        "print(\"Energy released during fusion\\nHelium 3: Q =\",2*dH_2-dn-dHe_3,\"MeV\")\n",
        "\n",
        "# b)\n",
        "print(\"Helium 4: Q =\", dH_2+dH_3-dHe_4-dn,\"MeV\")"
      ],
      "metadata": {
        "colab": {
          "base_uri": "https://localhost:8080/"
        },
        "id": "v76ZA0XGzoB8",
        "outputId": "c8d5cf91-52e0-46cd-881e-c6072617c331"
      },
      "execution_count": null,
      "outputs": [
        {
          "output_type": "stream",
          "name": "stdout",
          "text": [
            "Energy released during fusion\n",
            "Helium 3: Q = 3.2688999999999986 MeV\n",
            "Helium 4: Q = 17.589299999999998 MeV\n"
          ]
        }
      ]
    },
    {
      "cell_type": "markdown",
      "source": [
        "10. A nuclear scientist attempts to perform experiments on the stable nuclide $^{56}_{26}$Fe.\n",
        "Determine the energy (in MeV) the scientist will need to\n",
        "  1. remove a single neutron.\n",
        "  2. remove a single proton.\n",
        "  3. completely dismantle the nucleus into its individual nucleons.\n",
        "  4. fission it symmetrically into two identical lighter nuclides $_{13}^{28}$Al."
      ],
      "metadata": {
        "id": "F88oDDbjojqd"
      }
    },
    {
      "cell_type": "code",
      "source": [
        "# problem 10\n",
        "\n",
        "# constants\n",
        "Fe_56 = -60.6070\t# Mass defect in MeV\n",
        "Fe_55 = -57.4813\n",
        "Mn_55 = -57.7124\t# Z = 25\n",
        "Al_28 = -16.8506\t# Z = 13\n",
        "n = 8.0713\n",
        "H_1 = 7.2889\n",
        "\n",
        "print(\"For Fe56 nuclide, the energy needed to:\\n1. remove a single neutron is \",\n",
        "      Fe_55 + n - Fe_56,\n",
        "      \"MeV\\n2. remove a single proton is\",\n",
        "      Mn_55 + H_1 - Fe_56,\n",
        "      \"MeV\\n3. completely dismantle the nucleus into its individual nucleons is\",\n",
        "      26*H_1 + 30*n - Fe_56,\n",
        "      \"MeV\\n4. fission it symmetrically into two identical lighter nuclides Al28 is\",\n",
        "      2*Al_28 - Fe_56,\"MeV\"\n",
        "      )\n"
      ],
      "metadata": {
        "colab": {
          "base_uri": "https://localhost:8080/"
        },
        "id": "9F199mTlnW5l",
        "outputId": "ab0e28fc-cb26-4fb3-cccb-3b813bc0328c"
      },
      "execution_count": null,
      "outputs": [
        {
          "output_type": "stream",
          "name": "stdout",
          "text": [
            "For Fe56 nuclide, the energy needed to:\n",
            "1. remove a single neutron is  11.197000000000003 MeV\n",
            "2. remove a single proton is 10.183499999999995 MeV\n",
            "3. completely dismantle the nucleus into its individual nucleons is 492.25739999999996 MeV\n",
            "4. fission it symmetrically into two identical lighter nuclides Al28 is 26.9058 MeV\n"
          ]
        }
      ]
    },
    {
      "cell_type": "markdown",
      "source": [
        "15. Reactions employed in cyclotron production of radionuclides for PET scanning are listed in Table 14.3. Select at least one reaction and compute the Q-value for the reaction. Do both the first and last rows of Table 14.3 (included below for your convenience). Explain\n",
        "why both Q values are negative.\n"
      ],
      "metadata": {
        "id": "PANKmprzCsGR"
      }
    },
    {
      "cell_type": "code",
      "source": [
        "# problem 15. calculate Q for the reactions\n",
        "\n",
        "## 14 N (p,alpha) 11 C\n",
        "\n",
        "N_14 = 2.8634   # mass defect in MeV\n",
        "n = 8.0713      # neutron\n",
        "H_1 = 7.2889    # proton\n",
        "He_4 = 2.4249   # alpha\n",
        "C_11 = 10.6493\n",
        "\n",
        "print(\"For reaction 14N (p,alpha) 11C  Q =\", N_14 + H_1 - He_4 - C_11)\n",
        "\n",
        "## 18 O (p,n) 18 F\n",
        "\n",
        "O_18 = -0.7828\t# mass defect in MeV\n",
        "F_18 = 0.8731\n",
        "\n",
        "print(\"\\nFor reaction 18O (p,n) 18F  Q =\", O_18 + H_1 - n - F_18,\"\\n\")\n"
      ],
      "metadata": {
        "colab": {
          "base_uri": "https://localhost:8080/"
        },
        "id": "G7HapqGBAbaz",
        "outputId": "2d1cf40c-e55b-4072-9e9d-9b35b1f97d1a"
      },
      "execution_count": null,
      "outputs": [
        {
          "output_type": "stream",
          "name": "stdout",
          "text": [
            "For reaction 14N (p,alpha) 11C  Q = -2.9219\n",
            "\n",
            "For reaction 18O (p,n) 18F  Q = -2.438300000000001 \n",
            "\n"
          ]
        }
      ]
    },
    {
      "cell_type": "markdown",
      "source": [
        "Both Q values are negative, it make sense beacuse we accelerated the nuclides in cyclotron to make the\n",
        "reaction happen and it absorbed more energy, if we look at the atomic/nuclei mass of before and after,\n",
        "we should see the (total) mass increased after the reaction."
      ],
      "metadata": {
        "id": "pymEQ0M-RYIO"
      }
    },
    {
      "cell_type": "code",
      "source": [
        "import numpy as np\n",
        "import matplotlib.pyplot as plt"
      ],
      "metadata": {
        "id": "u4ZdhZwOFAF7"
      },
      "execution_count": null,
      "outputs": []
    },
    {
      "cell_type": "markdown",
      "source": [
        "**Alpha Decay:** For alpha decay to occur the Q value must be positive, so:\n",
        "𝑀( 𝑃𝑍\n",
        "𝐴 ) > 𝑀( 𝐷𝑍−2\n",
        "𝐴−4 ) + 𝑀( 𝐻𝑒2\n",
        "4 )\n",
        "\n",
        "\n",
        "a) Use your Liquid Drop model code to predict the minimum 𝐴 where alpha decay can occur.\n",
        "Use the standard equation (3.18) for 𝑍\n",
        "\n",
        "\n",
        "b) Look up a chart of the nuclides such as: https://people.physics.anu.edu.au/~ecs103/chart/\n",
        "Ignoring the outliers like Be-8 and the “island” around I-107, verify that your prediction is in the ballpark where alpha decay begins.\n",
        "\n",
        "\n",
        "c) Your prediction should be a bit too high. How does the shell model explain why alpha decay\n",
        "actually starts at a lower 𝐴 than the Liquid Drop model predicts?\n"
      ],
      "metadata": {
        "id": "Ph1k1PAg-BOJ"
      }
    },
    {
      "cell_type": "code",
      "source": [
        "# liquid drop model's prediction of minimum A# for Alpha decay\n",
        "\n",
        "u = 931.494013 # MeV/c2 per u(amu)\n",
        "He_4 = 4.0026032497\n",
        "H_4 = 4.027830\n",
        "n = 1.0086649233\n",
        "\n",
        "a_v = 15.835 #MeV volume const\n",
        "a_s = 18.33 #MeV  surface const\n",
        "a_c = 0.714 #MeV  Coulumb const\n",
        "a_a = 23.20 #MeV  asymmetric const\n",
        "\n",
        "m_e = 0.51099890 # MeV/c2  electron mass\n",
        "m_p = 938.27200 # MeV/c2   proton mass\n",
        "m_n = 939.56533 # MeV/c2   neutron mass\n",
        "m_He4 = 3728.400963509894  # helium_4 mass\n",
        "m_a = 4.001506*u\n",
        "\n",
        "\n",
        "A = np.arange(1,300,1)\n",
        "\n",
        "Z = (A/2)*(1+(m_n-m_p)/(4*a_a))/(1+a_c*A**(2/3)/(4*a_a))  # eq.(3.18) calculate stable #Z\n",
        "N = A-Z\n",
        "\n",
        "TBE = a_v*A - (a_s*A**(2/3)) - a_c*Z**2/(A**(1/3)) - (a_a*(A-2*Z)**2)/A  # (Total)BE (without pairing term)\n",
        "TBE_d = a_v*(A-4) - (a_s*(A-4)**(2/3)) - a_c*(Z-2)**2/((A-4)**(1/3)) - (a_a*((A-4)-2*(Z-2))**2)/(A-4)  # TBE of daughter\n",
        "\n",
        "#Q = (Z*m_p + (A-Z)*m_n - BE) - ((Z-2)*m_p + (A-Z-2)*m_n - TBE_d) - m_He4\n",
        "\n",
        "mass1 = (Z*(m_p) + (A-Z)*m_n - TBE)\n",
        "mass2 = ((Z-2)*(m_p) + (A-Z-2)*m_n - TBE_d) + m_a\n",
        "diff = mass1-mass2\n",
        "\n",
        "plt.figure(figsize=(5,3))\n",
        "plt.plot(A,diff,A*0)\n",
        "plt.title(\"Mass Parent - (Mass daughter + Mass Alpha) \")\n",
        "plt.xlabel(\"A\")\n",
        "plt.ylabel(\"Q (MeV)\")\n",
        "plt.show()\n"
      ],
      "metadata": {
        "colab": {
          "base_uri": "https://localhost:8080/",
          "height": 424
        },
        "id": "9cY9zCMa-CpT",
        "outputId": "cc54a908-d5c7-4ea6-a3f8-34641dc1181e"
      },
      "execution_count": null,
      "outputs": [
        {
          "output_type": "stream",
          "name": "stderr",
          "text": [
            "<ipython-input-200-8d767147703d>:26: RuntimeWarning: invalid value encountered in power\n",
            "  TBE_d = a_v*(A-4) - (a_s*(A-4)**(2/3)) - a_c*(Z-2)**2/((A-4)**(1/3)) - (a_a*((A-4)-2*(Z-2))**2)/(A-4)  # TBE of daughter\n",
            "<ipython-input-200-8d767147703d>:26: RuntimeWarning: divide by zero encountered in divide\n",
            "  TBE_d = a_v*(A-4) - (a_s*(A-4)**(2/3)) - a_c*(Z-2)**2/((A-4)**(1/3)) - (a_a*((A-4)-2*(Z-2))**2)/(A-4)  # TBE of daughter\n"
          ]
        },
        {
          "output_type": "display_data",
          "data": {
            "text/plain": [
              "<Figure size 500x300 with 1 Axes>"
            ],
            "image/png": "[encoded data removed]"
          },
          "metadata": {}
        }
      ]
    },
    {
      "cell_type": "code",
      "source": [
        "# zoom in to find numbers\n",
        "\n",
        "plt.figure(figsize=(5,3))\n",
        "plt.plot(A,diff)\n",
        "plt.hlines(y=0,xmin=0,xmax=200,color='orange')\n",
        "plt.vlines(x=148,ymin=-2,ymax=2,color='r')\n",
        "\n",
        "plt.xlim(140, 155)\n",
        "plt.title(\"Zooming in to find A\")\n",
        "plt.xlabel(\"A\")\n",
        "plt.ylabel(\"Q\")\n",
        "plt.show()\n",
        "\n",
        "\n",
        "plt.figure(figsize=(5,3))\n",
        "plt.plot(A-Z,diff)\n",
        "\n",
        "plt.hlines(y=0,xmin=0,xmax=200,color='orange')\n",
        "plt.vlines(x=86,ymin=-2,ymax=2,color='r')\n",
        "\n",
        "plt.xlim(80, 90)\n",
        "\n",
        "plt.xlabel(\"N\")\n",
        "plt.ylabel(\"Q\")\n",
        "plt.show()\n"
      ],
      "metadata": {
        "colab": {
          "base_uri": "https://localhost:8080/",
          "height": 627
        },
        "id": "x_2HmI1frSVg",
        "outputId": "65465131-c145-4f35-f8f9-6168183a9009"
      },
      "execution_count": null,
      "outputs": [
        {
          "output_type": "display_data",
          "data": {
            "text/plain": [
              "<Figure size 500x300 with 1 Axes>"
            ],
            "image/png": "[encoded data removed]"
          },
          "metadata": {}
        },
        {
          "output_type": "display_data",
          "data": {
            "text/plain": [
              "<Figure size 500x300 with 1 Axes>"
            ],
            "image/png": "[encoded data removed]"
          },
          "metadata": {}
        }
      ]
    },
    {
      "cell_type": "markdown",
      "source": [
        "a) The predicted value is A=148 with Z=62 (148Sm)\n",
        "\n",
        "b) 148Sm is close to but isn't the minimum A# for alpha decay. A=144 (144Nd) is the minimum.\n",
        "\n",
        "c)The predicted value using liquid drop model is higher than what it supposed to be. The shelll model taking effect of energy levels of the roton and neutrons in the nucleus thus being a more accurate description. For 144Nd (Z=60) N=84, which is close to the magic number 82. The gap \"to reach this axtra stability\" is N=2, which is perfect for an alpha decay to happen."
      ],
      "metadata": {
        "id": "xL_hOtbtKrxN"
      }
    },
    {
      "cell_type": "markdown",
      "source": [
        "# Hw 5"
      ],
      "metadata": {
        "id": "W6V5q1JMAFCb"
      }
    },
    {
      "cell_type": "code",
      "source": [
        "import numpy as np"
      ],
      "metadata": {
        "id": "mJT-7YNn91Hi"
      },
      "execution_count": null,
      "outputs": []
    },
    {
      "cell_type": "code",
      "source": [
        "# constants\n",
        "\n",
        "u = 931.494013 # MeV/c2 per u(amu)\n",
        "u_234Th =234.043595\n",
        "u_4He = 4.0026032497"
      ],
      "metadata": {
        "id": "NctvdTsY4H0j"
      },
      "execution_count": null,
      "outputs": []
    },
    {
      "cell_type": "code",
      "source": [
        "# if use amu when doing the \"ratio calculation\"\n",
        "v_He = np.sqrt(6.7378/(u*0.5*(u_234Th*(u_4He/u_234Th)**2+u_4He)))\n",
        "v_Th = (-u_4He/u_234Th)*v_He\n",
        "\n",
        "KE_Th = 0.5*u*u_234Th*(v_Th)**2\n",
        "KE_He = 0.5*u*u_4He*(v_He)**2\n",
        "\n",
        "print(\"KE_Th\",KE_Th,\n",
        "      \"\\nKE_u\",KE_He,\n",
        "      \"\\ntotal KE\",KE_Th + KE_He)"
      ],
      "metadata": {
        "colab": {
          "base_uri": "https://localhost:8080/"
        },
        "id": "FeSaA-E09N2K",
        "outputId": "6150e055-e02f-4562-a920-1169f88f1d36"
      },
      "execution_count": null,
      "outputs": [
        {
          "output_type": "stream",
          "name": "stdout",
          "text": [
            "KE_Th 0.11329204320053722 \n",
            "KE_u 6.624507956799463 \n",
            "total KE 6.7378\n"
          ]
        }
      ]
    },
    {
      "cell_type": "code",
      "source": [
        "# if use A# instead of amu when doing the \"ratio calculation\"\n",
        "KE_th = 0.5*u*u_234Th*(9.917468113e-4)**2\n",
        "KE_4He = 0.5*u*u_4He*(0.05801718846)**2\n",
        "\n",
        "print(\"KE_Th\",KE_th,\n",
        "      \"\\nKE_u\",KE_4He,\n",
        "      \"\\ntotal KE\",KE_th + KE_4He)"
      ],
      "metadata": {
        "colab": {
          "base_uri": "https://localhost:8080/"
        },
        "id": "P4yifrNa5LIz",
        "outputId": "faef4438-7a70-4caf-ef2c-81ae8089ae61"
      },
      "execution_count": null,
      "outputs": [
        {
          "output_type": "stream",
          "name": "stdout",
          "text": [
            "KE_Th 0.1072132492766594 \n",
            "KE_u 6.274887928696783 \n",
            "total KE 6.382101177973443\n"
          ]
        }
      ]
    },
    {
      "cell_type": "code",
      "source": [
        "def get_KE(m1,m2,Q):\n",
        "  '''\n",
        "    to calculate kE distribution (for 2 particle)\n",
        "    m1,m2 in amu; Q in MeV\n",
        "    returns (KE1,KE2,v1,v2) where KE are in MeV, v in n*C\n",
        "  '''\n",
        "  v1 = (2*Q/(931.494013*(m1*m1/m2+m1)))**(1/2)\n",
        "  v2 = -1*v1*m1/m2\n",
        "  KE1 = 0.5*m1*931.494013*(v1)**2\n",
        "  KE2 = 0.5*m2*931.494013*(v2)**2\n",
        "\n",
        "  return [KE1,KE2,v1,v2]"
      ],
      "metadata": {
        "id": "G6OIQvZpJCwb"
      },
      "execution_count": null,
      "outputs": []
    },
    {
      "cell_type": "code",
      "source": [
        "get_KE(u_4He,u_234Th,6.7378)"
      ],
      "metadata": {
        "colab": {
          "base_uri": "https://localhost:8080/"
        },
        "id": "_sq0GvVqNTRe",
        "outputId": "86d46380-a18c-48e0-a482-e5a25398d981"
      },
      "execution_count": null,
      "outputs": [
        {
          "output_type": "execute_result",
          "data": {
            "text/plain": [
              "[6.624507956799463,\n",
              " 0.11329204320053722,\n",
              " 0.059611562454949425,\n",
              " -0.0010194743146116649]"
            ]
          },
          "metadata": {},
          "execution_count": 58
        }
      ]
    },
    {
      "cell_type": "code",
      "source": [
        "# prob.4\n",
        "# 224Ra -> 4He + 220Rn\n",
        "\n",
        "Q = 18.8259 - 2.4249 - 10.6120          # Rn\n",
        "Qm = 18.8259 - 2.4249 - 10.6120 -0.241  # Rn*\n",
        "u_224Ra = 224.020202\n",
        "u_220Rn = 220.0113841\n",
        "\n",
        "KE = get_KE(u_220Rn,u_4He,Q)\n",
        "KEm = get_KE(u_220Rn,u_4He,Qm)\n",
        "print(f'KE_Rn = {KE[0]} \\nKE_He = {KE[1]}')\n",
        "print(f'\\nIf decay to excited state Rn*\\nKE_Rn = {KEm[0]} \\nKE_He = {KEm[1]}')\n"
      ],
      "metadata": {
        "colab": {
          "base_uri": "https://localhost:8080/"
        },
        "id": "leIIWF94Gell",
        "outputId": "b6f6ab95-7a82-4208-d93b-b156efa9dd57"
      },
      "execution_count": null,
      "outputs": [
        {
          "output_type": "stream",
          "name": "stdout",
          "text": [
            "KE_Rn = 0.10343581883724876 \n",
            "KE_He = 5.685564181162751\n",
            "\n",
            "If decay to excited state Rn*\n",
            "KE_Rn = 0.09912971547919433 \n",
            "KE_He = 5.4488702845208055\n"
          ]
        }
      ]
    },
    {
      "cell_type": "markdown",
      "source": [
        "# HW 6"
      ],
      "metadata": {
        "id": "R5WaAZLlS7Wk"
      }
    },
    {
      "cell_type": "code",
      "source": [
        "def E_th_K(mx, mX,Q):\n",
        "  \"\"\"\n",
        "  to calculate Kinematics reaction thresholds (approx) for Binary x + X—>(x + X)*—>y + Y\n",
        "  (mx, mX,Q)\n",
        "  m1,m2 in the same unit; Q in unit of MeV\n",
        "  \"\"\"\n",
        "  return -(1+mx/mX)*Q\n",
        "\n",
        "def E_th_C(Z1,Z2,A1,A2):\n",
        "  \"\"\"\n",
        "  to calculate Coulomb reaction thresholds (approx) for Binary x + X—>(x + X)*—>y + Y\n",
        "  (Z1,Z2,A1,A2) , 1 as x, 2 as X\n",
        "  return Energy in unit of MeV\n",
        "  \"\"\"\n",
        "  return 1.2*(Z1*Z2)/(A1**(1/3)+A2**(1/3))\n",
        "\n",
        "def get_KE_meV(m1,m2,Q):\n",
        "  '''\n",
        "    to calculate kE distribution (for 2 particle)\n",
        "    (m1,m2,Q) **m1,m2,Q in MeV**\n",
        "    returns (KE1,KE2) where KE are in MeV\n",
        "  '''\n",
        "  KE1 = Q*m2/(m1+m2)\n",
        "  KE2 = Q*m1/(m2+m1)\n",
        "\n",
        "  return [KE1,KE2]"
      ],
      "metadata": {
        "id": "c2XXHD-aVlwK"
      },
      "execution_count": null,
      "outputs": []
    },
    {
      "cell_type": "code",
      "source": [
        "# Problem 4. 1n+6Li-->7Li*--> many things\n",
        "\n",
        "d6He = 17.5920  # mass defect in MeV\n",
        "d5He = 11.2312\n",
        "dn = 8.0713\n",
        "dH = 7.2889\t# proton (1H)\n",
        "d2H = 13.1357\n",
        "d6Li = 14.0868\n",
        "\n",
        "m_p = 938.27200 # MeV/c2   proton mass\n",
        "m_n = 939.56533 # MeV/c2   neutron mass\n",
        "m_6Li = 6.0151223*931.494013 # MeV/c2\n",
        "m_5He = 5.012220*931.494013\n",
        "m_6He = 6.0188881*931.494013\n",
        "m_2H = 2.0141017780*931.494013\n",
        "\n",
        "# a)  Q value\n",
        "Q6 = dn + d6Li - d6He - dH\n",
        "Q5 = dn + d6Li - d5He - d2H\n",
        "print(f'Q for 7Li*-->6He+P is {Q6} MeV\\nQ for 7Li*-->5He+2H is {Q5} MeV')\n",
        "\n",
        "# b)  Kinematic threshold energy\n",
        "E6He_K = E_th_K(m_n,m_6Li,Q6)\n",
        "E_C = E_th_C(0,3,1,6) # =0\n",
        "E5He_K = E_th_K(m_n,m_6Li,Q5)\n",
        "print(f'\\nthreshold energy for 7Li*-->6He+P is {E6He_K} MeV\\nthreshold energy for 7Li*-->5He+2H is {E5He_K} MeV')\n",
        "\n",
        "# c)  min KE of the particles\n",
        "KE6 = get_KE_meV(m_p,m_6He,Q6)\n",
        "KE5 = get_KE_meV(m_2H,m_5He,Q5)\n",
        "\n",
        "print(f'\\nFor 7Li*-->6He+P minimum KE is: \\nproton {KE6[0]}\\nHelium 6 {KE6[1]}\\n',\n",
        "      f'\\nFor 7Li*-->5He+2H minimum KE is: \\nproton {KE5[0]}\\nHelium 6 {KE5[1]}'\n",
        "      )"
      ],
      "metadata": {
        "colab": {
          "base_uri": "https://localhost:8080/"
        },
        "id": "0VRvDrI4S9vC",
        "outputId": "5d939d56-e438-4c6c-a0ba-f55d0e4989b2"
      },
      "execution_count": null,
      "outputs": [
        {
          "output_type": "stream",
          "name": "stdout",
          "text": [
            "Q for 7Li*-->6He+P is -2.7227999999999977 MeV\n",
            "Q for 7Li*-->5He+2H is -2.2087999999999983 MeV\n",
            "\n",
            "threshold energy for 7Li*-->6He+P is 3.179381378600126 MeV\n",
            "threshold energy for 7Li*-->5He+2H is 2.5791896536844274 MeV\n",
            "\n",
            "For 7Li*-->6He+P minimum KE is: \n",
            "proton -2.332457254383223\n",
            "Helium 6 -0.3903427456167746\n",
            " \n",
            "For 7Li*-->5He+2H minimum KE is: \n",
            "proton -1.575645392538695\n",
            "Helium 6 -0.6331546074613033\n"
          ]
        }
      ]
    },
    {
      "cell_type": "code",
      "source": [
        "# prob. 8\n",
        "'''\n",
        "# 18O(p,n)18F  18O+P-->n+18F\n",
        "\n",
        "d18O = -0.7828\t# mass defect in MeV\n",
        "d18F = 0.8731\n",
        "\n",
        "m_18O = 17.9991604*931.494013  # mass in Mev\n",
        "m_18F = 18.0009377*931.494013\n",
        "\n",
        "Q1 = d18O+dH-dn-d18F\n",
        "\n",
        "E_th = E_th_K(m_p,m_18O,Q1)\n",
        "\n",
        "E_thC = E_th_C(1,8,1,18)\n",
        "\n",
        "print(E_th,\"\\n\",E_thC)\n",
        "'''\n",
        "# a) The two reactions are: n + 6Li --> 3H + 4Li // 3H + 16O --> 18F\n",
        "\n",
        "# b) Q values\n",
        "d18O = -0.7828\t# mass defect in MeV\n",
        "d18F = 0.8731\n",
        "d6Li = 14.0868\n",
        "d3H = 14.9498\n",
        "d4Li = 25.3231\n",
        "d16O = -4.7370\n",
        "dn = 8.0713\n",
        "\n",
        "Q1 = dn +d6Li -d3H -d4Li\n",
        "Q2 = d3H +d16O -d18F\n",
        "\n",
        "print(f'Q for reaction n + 6Li --> 3H + 4Li is {Q1} MeV',\n",
        "      f'\\nQ for reaction 3H + 16O --> 18F is {Q2} MeV')\n",
        "\n",
        "# c) Threshold energy\n",
        "\n",
        "m_n = 939.56533 # MeV/c2   neutron mass\n",
        "m_6Li = 6.0151223*931.494013 # MeV/c2\n",
        "m_4Li = 4.027180*931.494013\n",
        "m_3H = 3.0160492675*931.494013\n",
        "m_16O = 15.9949146221*931.494013\n",
        "m_18F = 18.0009377*931.494013\n",
        "\n",
        "E1th = E_th_K(m_n,m_6Li,Q1)\n",
        "print(f'\\nreaction threshold for the first is {E1th} MeV')\n",
        "E2th = E_th_C(1,8,3,16)\n",
        "print(f'reaction threshold for the second is {E2th} MeV')\n",
        "\n",
        "# d) Can thermal neutron be used?\n",
        "# KE ~0.025 eV, below the threshold of the first reaction, cannot be used\n"
      ],
      "metadata": {
        "colab": {
          "base_uri": "https://localhost:8080/"
        },
        "id": "45eXebSfbClp",
        "outputId": "b9249ce0-01d7-441b-a8fe-21cc148cf4f1"
      },
      "execution_count": null,
      "outputs": [
        {
          "output_type": "stream",
          "name": "stdout",
          "text": [
            "Q for reaction n + 6Li --> 3H + 4Li is -18.1148 MeV \n",
            "Q for reaction 3H + 16O --> 18F is 9.3397 MeV\n",
            "\n",
            "reaction threshold for the first is 21.152437857009552 MeV\n",
            "reaction threshold for the second is 2.4229626165526343 MeV\n"
          ]
        }
      ]
    },
    {
      "cell_type": "code",
      "source": [
        "# prob 14.\n",
        "dn = 8.0713\n",
        "d235U = 40.9188\n",
        "d90Kr = -74.9592\n",
        "d142Ba = -77.8422\n",
        "d90Zr = -88.7725\n",
        "d142Ce = -84.5331\n",
        "\n",
        "Qb = dn+d235U-d90Kr-d142Ba-4*dn\n",
        "Qc = dn+d235U-d90Zr-d142Ce-4*dn\n",
        "\n",
        "print (f'Qb = {Qb} MeV\\nQc = {Qc} MeV')"
      ],
      "metadata": {
        "id": "ILLO3ZJ2gc81",
        "colab": {
          "base_uri": "https://localhost:8080/"
        },
        "outputId": "de3c4fa6-a7cc-4308-dc75-36f2b3a4f5aa"
      },
      "execution_count": null,
      "outputs": [
        {
          "output_type": "stream",
          "name": "stdout",
          "text": [
            "Qb = 169.50629999999998 MeV\n",
            "Qc = 190.0105 MeV\n"
          ]
        }
      ]
    },
    {
      "cell_type": "markdown",
      "source": [
        "#HW 10\n",
        "\n",
        "Problems are from Shultis and Faw 3rd Edition\n",
        "\n",
        "Design a critical reactor with the following:\n",
        "\n",
        "* Moderator: graphite\n",
        "* Fuel: Enriched uranium with 3% 235U and 97% 238U\n",
        "* Geometry: cube\n",
        "\n"
      ],
      "metadata": {
        "id": "nLnmsWBUPTY_"
      }
    },
    {
      "cell_type": "code",
      "source": [
        "import numpy as np\n",
        "import matplotlib.pyplot as plt\n",
        "\n",
        "#from scipy import signal"
      ],
      "metadata": {
        "id": "vKH2jC2EeAQw"
      },
      "execution_count": null,
      "outputs": []
    },
    {
      "cell_type": "markdown",
      "source": [
        "###1. calculates 𝑘∞ for a given moderator-to-fuel ratio.\n",
        "\n",
        "This reactor has a high enough moderator ratio that you may assume 𝜖 = 1.000"
      ],
      "metadata": {
        "id": "NtLIPSFvQ5zN"
      }
    },
    {
      "cell_type": "code",
      "source": [
        "# fast fission factor\n",
        "epsilon = 1\n",
        "\n",
        "\n",
        "\n",
        "# thermal fission factor  # eta\n",
        "\n",
        "nu235 = 2.437\n",
        "sigmaf235 = 505.9   # sigma bar thermal averaged microscopic cross section (from textbook, not up to date)\n",
        "sigmaa235 = 592.6   #\n",
        "sigmaa238 = 2.382\n",
        "\n",
        "eta = nu235*(sigmaf235*.03)/(sigmaa235*.03+sigmaa238*.97)\n",
        "print(\"eta\",eta)\n",
        "\n",
        "\n",
        "# resonance escape prob. # p\n",
        "\n",
        "xiC = 0.158\n",
        "sigmasM = 4.8 # barn\n",
        "a238 = 2.73\n",
        "c238 = 0.486\n",
        "\n",
        "ratio = np.arange(0,1500,0.1) # ratio (N_M/N_fuel)\n",
        "\n",
        "p = np.exp(-(a238/xiC)*(.97/(ratio*sigmasM))**(1-c238))\n",
        "\n",
        "\n",
        "\n",
        "# thermal utilization  # f\n",
        "sigmaaC = 3.861e-3*(np.pi)**(1/2)/2 #b  ## conversion to average sigma (np.pi)**(1/2)/2\n",
        "f = (.03*sigmaa235+0.97*sigmaa238)/(.03*sigmaa235+0.97*sigmaa238 + sigmaaC*(ratio))\n",
        "\n",
        "\n",
        "\n",
        "# koo\n",
        "koo = eta*epsilon*p*f\n",
        "\n",
        "plt.plot(ratio,f,'r--',label='f')\n",
        "plt.plot(ratio,p,'g--',label='p')\n",
        "plt.plot(ratio,koo,'k',label='k oo')\n",
        "plt.legend()\n",
        "plt.show()\n"
      ],
      "metadata": {
        "colab": {
          "base_uri": "https://localhost:8080/",
          "height": 483
        },
        "id": "rmYpqNvtSFnP",
        "outputId": "a48171ec-29bd-4054-b3fa-38a3d6870f0c"
      },
      "execution_count": null,
      "outputs": [
        {
          "output_type": "stream",
          "name": "stdout",
          "text": [
            "eta 1.8411666054377271\n"
          ]
        },
        {
          "output_type": "stream",
          "name": "stderr",
          "text": [
            "<ipython-input-36-a5b607350667>:26: RuntimeWarning: divide by zero encountered in divide\n",
            "  p = np.exp(-(a238/xiC)*(.97/(ratio*sigmasM))**(1-c238))\n"
          ]
        },
        {
          "output_type": "display_data",
          "data": {
            "text/plain": [
              "<Figure size 640x480 with 1 Axes>"
            ],
            "image/png": "[encoded data removed]"
          },
          "metadata": {}
        }
      ]
    },
    {
      "cell_type": "code",
      "source": [
        "# check with 500\n",
        "print(\"p =\",np.exp(-(a238/xiC)*(.97/(500*sigmasM))**(1-c238)))\n",
        "print(\"f =\",(.03*sigmaa235+0.97*sigmaa238)/(.03*sigmaa235+0.97*sigmaa238 + sigmaaC*(500)))\n",
        "print(\"k =\",eta*np.exp(-(a238/xiC)*(.97/(500*sigmasM))**(1-c238))*((.03*sigmaa235+0.97*sigmaa238)/(.03*sigmaa235+0.97*sigmaa238 + sigmaaC*(500))))\n"
      ],
      "metadata": {
        "colab": {
          "base_uri": "https://localhost:8080/"
        },
        "id": "_xvh2l8zamN8",
        "outputId": "5def57dd-7df3-40c2-bf7e-0e7a74e7c926"
      },
      "execution_count": null,
      "outputs": [
        {
          "output_type": "stream",
          "name": "stdout",
          "text": [
            "p = 0.7324423563095925\n",
            "f = 0.9215179777948744\n",
            "k = 1.2427116008346197\n"
          ]
        }
      ]
    },
    {
      "cell_type": "markdown",
      "source": [
        "### 2. Try moderator-to-fuel ratios between 500 and 1,000 to find the optimum value. Clearly record\n",
        "your final values of 𝜖, 𝜂, 𝑓, 𝑝, and 𝑘∞"
      ],
      "metadata": {
        "id": "34L-1dIYwFF0"
      }
    },
    {
      "cell_type": "code",
      "source": [
        "# 2.\n",
        "from scipy import signal\n",
        "peak, properties = signal.find_peaks(koo, height=True)\n",
        "print(peak)\n",
        "print(properties)"
      ],
      "metadata": {
        "colab": {
          "base_uri": "https://localhost:8080/"
        },
        "id": "UBIMSyHBisEU",
        "outputId": "0ba6df82-9373-4078-b8ec-ac4c7915a6d2"
      },
      "execution_count": null,
      "outputs": [
        {
          "output_type": "stream",
          "name": "stdout",
          "text": [
            "[8275]\n",
            "{'peak_heights': array([1.26896829])}\n"
          ]
        }
      ]
    },
    {
      "cell_type": "code",
      "source": [
        "ratio = np.arange(500,1000,1)\n",
        "p = np.exp(-(a238/xiC)*(1/(ratio*sigmasM))**(1-c238))\n",
        "f = (.03*sigmaa235+0.97*sigmaa238)/(.03*sigmaa235+0.97*sigmaa238 + sigmaaC*(ratio))\n",
        "koo = eta*epsilon*p*f\n",
        "plt.plot([827.5],[1.26896829],'m*',label='ratio=775.6\\nmax koo=1.2447')\n",
        "\n",
        "plt.plot(ratio,f,'r--',label='f')\n",
        "plt.plot(ratio,p,'g--',label='p')\n",
        "plt.plot(ratio,koo,'k',label='k oo')\n",
        "plt.legend()\n",
        "plt.show()\n",
        "\n",
        "print(\"ratio =\",827.5,\n",
        "      \"\\neta =\", 1.8409399538244196,\n",
        "      \"\\np =\",np.exp(-(a238/xiC)*(.97/(827.5*sigmasM))**(1-c238)),\n",
        "      \"\\nf =\",(.03*sigmaa235+0.97*sigmaa238)/(.03*sigmaa235+0.97*sigmaa238 + sigmaaC*(827.5)),\n",
        "      \"\\nkoo =\",eta*np.exp(-(a238/xiC)*(.97/(827.5*sigmasM))**(1-c238))*((.03*sigmaa235+0.97*sigmaa238)/(.03*sigmaa235+0.97*sigmaa238 + sigmaaC*(827.5))))\n"
      ],
      "metadata": {
        "colab": {
          "base_uri": "https://localhost:8080/",
          "height": 519
        },
        "id": "iuFAYp9UreM0",
        "outputId": "7b192bbd-fcae-43e4-baba-e425d6e49e8b"
      },
      "execution_count": null,
      "outputs": [
        {
          "output_type": "display_data",
          "data": {
            "text/plain": [
              "<Figure size 640x480 with 1 Axes>"
            ],
            "image/png": "[encoded data removed]"
          },
          "metadata": {}
        },
        {
          "output_type": "stream",
          "name": "stdout",
          "text": [
            "ratio = 827.5 \n",
            "eta = 1.8409399538244196 \n",
            "p = 0.7863650548118932 \n",
            "f = 0.8764627738680312 \n",
            "koo = 1.2689682903190636\n"
          ]
        }
      ]
    },
    {
      "cell_type": "markdown",
      "source": [
        "### 3. Find the dimensions of the cube that makes your reactor critical (keff = 1) following example 10.5. Note that there are many ways to get a final answer. The book uses trial-and-error."
      ],
      "metadata": {
        "id": "LB-EuHi-wL6G"
      }
    },
    {
      "cell_type": "code",
      "source": [
        "# 3. # synmpy didn't work well on this\n",
        "'''from sympy import *\n",
        "LT2 = 3070  # thermal diffusion length squared (cm^2) *of graphine*\n",
        "tauT = 368  # Fermi age from fission to thermal energy (cm^2)\n",
        "Bc2 = symbols('Bc2')\n",
        "keff = 1-(1.24474756*exp(-Bc2*tauT)/(1+LT2*Bc2)) # koo max value calculated above substituded\n",
        "display(keff)\n",
        "ans = solve(keff,Bc2)\n",
        "print(ans)\n",
        "'''"
      ],
      "metadata": {
        "colab": {
          "base_uri": "https://localhost:8080/",
          "height": 71
        },
        "id": "b6b0kGK9w6BK",
        "outputId": "665296bd-6ff7-47bd-fc36-b2977c981f39"
      },
      "execution_count": null,
      "outputs": [
        {
          "output_type": "execute_result",
          "data": {
            "text/plain": [
              "\"from sympy import *\\nLT2 = 3070  # thermal diffusion length squared (cm^2) *of graphine*\\ntauT = 368  # Fermi age from fission to thermal energy (cm^2)\\nBc2 = symbols('Bc2')\\nkeff = 1-(1.24474756*exp(-Bc2*tauT)/(1+LT2*Bc2)) # koo max value calculated above substituded\\ndisplay(keff)\\nans = solve(keff,Bc2)\\nprint(ans)\\n\""
            ],
            "application/vnd.google.colaboratory.intrinsic+json": {
              "type": "string"
            }
          },
          "metadata": {},
          "execution_count": 40
        }
      ]
    },
    {
      "cell_type": "code",
      "source": [
        "from scipy import optimize\n",
        "\n",
        "LT2 = 3070*(1-0.8764627738680312)  # thermal diffusion length squared (cm^2) *of graphine*\n",
        "tauT = 368  # Fermi age from fission to thermal energy (cm^2)\n",
        "\n",
        "R = np.arange(1,3000,0.1)\n",
        "Bc2 = 3*(np.pi/R)**2  # Bc^2 equation for cubic shaped reactors\n",
        "\n",
        "keff = (1.24474756*np.exp(-1*Bc2*tauT)/(1+LT2*Bc2)) # koo max value calculated above substituded\n",
        "plt.plot(R,keff)\n",
        "plt.xlabel('reactor size (cm)')\n",
        "plt.ylabel('$k_{eff}$')\n",
        "\n",
        "def func(x):\n",
        "  LT2 = 3070*(1-0.8764627738680312)  # thermal diffusion length squared (cm^2) *of graphine*\n",
        "  tauT = 368  # Fermi age from fission to thermal energy (cm^2)\n",
        "  return 1- (1.24474756*np.exp(-1*(3*(np.pi/x)**2)*tauT)/(1+LT2*(3*(np.pi/x)**2)))\n",
        "\n",
        "ans = optimize.root_scalar(func, bracket=[1,1000])\n",
        "print(ans)\n",
        "plt.show()\n",
        "print(\"To have keff = 1 for this reactor, the length of the cube = 313.588 cm\" )"
      ],
      "metadata": {
        "colab": {
          "base_uri": "https://localhost:8080/",
          "height": 556
        },
        "id": "UvuiBqdJ1PSF",
        "outputId": "47c9bc39-2ced-4939-a35c-dfaab11f25b5"
      },
      "execution_count": null,
      "outputs": [
        {
          "output_type": "stream",
          "name": "stdout",
          "text": [
            "      converged: True\n",
            "           flag: converged\n",
            " function_calls: 12\n",
            "     iterations: 11\n",
            "           root: 313.58797193472526\n"
          ]
        },
        {
          "output_type": "display_data",
          "data": {
            "text/plain": [
              "<Figure size 640x480 with 1 Axes>"
            ],
            "image/png": "[encoded data removed]"
          },
          "metadata": {}
        },
        {
          "output_type": "stream",
          "name": "stdout",
          "text": [
            "To have keff = 1 for this reactor, the length of the cube = 313.588 cm\n"
          ]
        }
      ]
    },
    {
      "cell_type": "markdown",
      "source": [
        "###4. For the final shopping list, use the volume and densities to calculate the total mass needed of graphite and enriched uranium."
      ],
      "metadata": {
        "id": "8kBpvBm-DMYT"
      }
    },
    {
      "cell_type": "code",
      "source": [
        "# 4.  assume C and U same size\n",
        "Ratio = 827.5\n",
        "vol = 313.5879**3\n",
        "\n",
        "mU = vol*1.6*(((238*.97+235*.03)/(Ratio*12)))\n",
        "\n",
        "'''\n",
        "Vmod = vol/(1+Ratio*((238*.97+235*.03)/12))\n",
        "Vfuel = (Ratio*((238*.97+235*.03)/12))*Vmod\n",
        "'''\n",
        "\n",
        "print(mU,\"grams\")"
      ],
      "metadata": {
        "colab": {
          "base_uri": "https://localhost:8080/"
        },
        "id": "msmu7KbOC5FR",
        "outputId": "b95a08e6-e1e4-4abe-8129-d97fcb309de0"
      },
      "execution_count": null,
      "outputs": [
        {
          "output_type": "stream",
          "name": "stdout",
          "text": [
            "1182119.33695749 grams\n"
          ]
        }
      ]
    }
  ]
}